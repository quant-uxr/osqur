{
 "cells": [
  {
   "cell_type": "code",
   "execution_count": null,
   "id": "110bf536-a4b7-4997-ac13-404e0f4af39c",
   "metadata": {},
   "outputs": [],
   "source": [
    "!pip install osqur"
   ]
  },
  {
   "cell_type": "code",
   "execution_count": null,
   "id": "b95dbeb6-195c-4ddf-a203-fbe67428d6c4",
   "metadata": {},
   "outputs": [],
   "source": [
    "from osqur import *"
   ]
  },
  {
   "cell_type": "code",
   "execution_count": null,
   "id": "6cafa6f3-1a58-4ad5-a8fa-f7956754176b",
   "metadata": {},
   "outputs": [],
   "source": [
    "print(\"Hello from OSQUR\")"
   ]
  }
 ],
 "metadata": {
  "kernelspec": {
   "display_name": "Python 3 (ipykernel)",
   "language": "python",
   "name": "python3"
  },
  "language_info": {
   "codemirror_mode": {
    "name": "ipython",
    "version": 3
   },
   "file_extension": ".py",
   "mimetype": "text/x-python",
   "name": "python",
   "nbconvert_exporter": "python",
   "pygments_lexer": "ipython3",
   "version": "3.11.4"
  }
 },
 "nbformat": 4,
 "nbformat_minor": 5
}
